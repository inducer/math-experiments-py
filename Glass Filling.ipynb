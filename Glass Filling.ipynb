{
 "cells": [
  {
   "cell_type": "code",
   "execution_count": 16,
   "id": "traditional-russell",
   "metadata": {},
   "outputs": [],
   "source": [
    "from IPython.core.display import display, HTML"
   ]
  },
  {
   "cell_type": "code",
   "execution_count": 66,
   "id": "owned-metabolism",
   "metadata": {},
   "outputs": [
    {
     "data": {
      "text/html": [
       "\n",
       "<div id=\"mycanvas3\" style=\"height: 50ex\"></div>\n",
       "<script type=\"module\">\n",
       "    import * as THREE from 'https://unpkg.com/three@0.126.1/build/three.module.js';\n",
       "    import { OrbitControls } from 'https://unpkg.com/three@0.126.1/examples/jsm/controls/OrbitControls.js';\n",
       "    \n",
       "    var container = document.getElementById(\"mycanvas3\");\n",
       "    var scene = new THREE.Scene();\n",
       "    var camera = new THREE.PerspectiveCamera(75, window.innerWidth / window.innerHeight, 0.1, 1000);\n",
       "    var renderer = new THREE.WebGLRenderer();\n",
       "    renderer.setSize(container.clientWidth, container.clientHeight);\n",
       "    renderer.setPixelRatio( window.devicePixelRatio );\n",
       "    container.appendChild( renderer.domElement );\n",
       "    \n",
       "    var geometry = new THREE.BoxGeometry( 10, 10, 10);\n",
       "    var material = new THREE.MeshLambertMaterial( { color: 0x00ff00 } );\n",
       "    var cube = new THREE.Mesh( geometry, material );\n",
       "    \n",
       "    const light = new THREE.DirectionalLight( 0xffffff, 2 );\n",
       "    light.position.set( 1, 0.5, 3 );\n",
       "    scene.add( light );\n",
       "    const light2 = new THREE.DirectionalLight( 0xffffff, 2 );\n",
       "    light2.position.set( -2, -3, -10 );\n",
       "    scene.add( light2 );\n",
       "    \n",
       "    scene.add( cube );\n",
       "\n",
       "    camera.position.z = 25;\n",
       "    \n",
       "    function render() {\n",
       "        renderer.render( scene, camera );\n",
       "    }\n",
       "    \n",
       "    render();\n",
       "    \n",
       "    var orbit = new OrbitControls( camera, renderer.domElement );\n",
       "    orbit.update();\n",
       "    orbit.addEventListener( 'change', render );\n",
       "\n",
       "</script>\n"
      ],
      "text/plain": [
       "<IPython.core.display.HTML object>"
      ]
     },
     "metadata": {},
     "output_type": "display_data"
    }
   ],
   "source": [
    "display(HTML(\"\"\"\n",
    "<div id=\"mycanvas3\" style=\"height: 50ex\"></div>\n",
    "<script type=\"module\">\n",
    "    import * as THREE from 'https://unpkg.com/three@0.126.1/build/three.module.js';\n",
    "    import { OrbitControls } from 'https://unpkg.com/three@0.126.1/examples/jsm/controls/OrbitControls.js';\n",
    "    \n",
    "    var container = document.getElementById(\"mycanvas3\");\n",
    "    var scene = new THREE.Scene();\n",
    "    var camera = new THREE.PerspectiveCamera(75, window.innerWidth / window.innerHeight, 0.1, 1000);\n",
    "    var renderer = new THREE.WebGLRenderer();\n",
    "    renderer.setSize(container.clientWidth, container.clientHeight);\n",
    "    renderer.setPixelRatio( window.devicePixelRatio );\n",
    "    container.appendChild( renderer.domElement );\n",
    "    \n",
    "    var geometry = new THREE.BoxGeometry( 10, 10, 10);\n",
    "    var material = new THREE.MeshLambertMaterial( { color: 0x00ff00 } );\n",
    "    var cube = new THREE.Mesh( geometry, material );\n",
    "    \n",
    "    const light = new THREE.DirectionalLight( 0xffffff, 2 );\n",
    "    light.position.set( 1, 0.5, 3 );\n",
    "    scene.add( light );\n",
    "    const light2 = new THREE.DirectionalLight( 0xffffff, 2 );\n",
    "    light2.position.set( -2, -3, -10 );\n",
    "    scene.add( light2 );\n",
    "    \n",
    "    scene.add( cube );\n",
    "\n",
    "    camera.position.z = 25;\n",
    "    \n",
    "    function render() {\n",
    "        renderer.render( scene, camera );\n",
    "    }\n",
    "    \n",
    "    render();\n",
    "    \n",
    "    var orbit = new OrbitControls( camera, renderer.domElement );\n",
    "    orbit.update();\n",
    "    orbit.addEventListener( 'change', render );\n",
    "\n",
    "</script>\n",
    "\"\"\"))"
   ]
  },
  {
   "cell_type": "code",
   "execution_count": null,
   "id": "moral-earth",
   "metadata": {},
   "outputs": [],
   "source": []
  }
 ],
 "metadata": {
  "kernelspec": {
   "display_name": "Python 3",
   "language": "python",
   "name": "python3"
  },
  "language_info": {
   "codemirror_mode": {
    "name": "ipython",
    "version": 3
   },
   "file_extension": ".py",
   "mimetype": "text/x-python",
   "name": "python",
   "nbconvert_exporter": "python",
   "pygments_lexer": "ipython3",
   "version": "3.9.1+"
  }
 },
 "nbformat": 4,
 "nbformat_minor": 5
}
