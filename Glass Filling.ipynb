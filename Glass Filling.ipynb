{
 "cells": [
  {
   "cell_type": "code",
   "execution_count": 78,
   "id": "transsexual-complaint",
   "metadata": {},
   "outputs": [],
   "source": [
    "from IPython.core.display import display, HTML\n",
    "from math import pi"
   ]
  },
  {
   "cell_type": "code",
   "execution_count": 80,
   "id": "broadband-perry",
   "metadata": {},
   "outputs": [],
   "source": [
    "times = []\n",
    "heights = []\n",
    "def reset(time, h):\n",
    "    times[:] = [time]\n",
    "    heights[:] = [h]\n",
    "    \n",
    "def add_height(time, h):\n",
    "    times.append(time)\n",
    "    heights.append(h)\n",
    "\n",
    "def plot_heights():\n",
    "    import matplotlib.pyplot as plt\n",
    "    plt.plot(times, heights)"
   ]
  },
  {
   "cell_type": "code",
   "execution_count": 101,
   "id": "homeless-rebate",
   "metadata": {},
   "outputs": [
    {
     "data": {
      "image/png": "[encoded data removed]",
      "text/plain": [
       "<Figure size 432x288 with 1 Axes>"
      ]
     },
     "metadata": {
      "needs_background": "light"
     },
     "output_type": "display_data"
    }
   ],
   "source": [
    "time = 0\n",
    "height = 0\n",
    "pour_vol = 100\n",
    "filled_vol = 0\n",
    "fill_rate = 0.3\n",
    "dt = 10\n",
    "\n",
    "reset(time, height)\n",
    "def container_radius(height):\n",
    "    return 3+height\n",
    "\n",
    "while pour_vol >= 0:\n",
    "    vol_per_dt = dt*fill_rate\n",
    "    pour_vol = pour_vol - vol_per_dt\n",
    "    \n",
    "    r = container_radius(height)\n",
    "    area = pi*r**2\n",
    "    height = height + vol_per_dt/area\n",
    "    time = time + dt\n",
    "    add_height(time, height)\n",
    "\n",
    "plot_heights()"
   ]
  },
  {
   "cell_type": "code",
   "execution_count": 102,
   "id": "restricted-piano",
   "metadata": {},
   "outputs": [
    {
     "data": {
      "text/html": [
       "\n",
       "<div id=\"mycanvas3\" style=\"height: 50ex\"></div>\n",
       "<script type=\"module\">\n",
       "    const times = [0, 10, 20, 30, 40, 50, 60, 70, 80, 90, 100, 110, 120, 130, 140, 150, 160, 170, 180, 190, 200, 210, 220, 230, 240, 250, 260, 270, 280, 290, 300, 310, 320, 330, 340];\n",
       "const heights = [0, 0.1061032953945969, 0.20508150490968186, 0.2980408864953942, 0.38583376956811843, 0.4691328328251033, 0.5484796523459069, 0.6243176300411782, 0.6970150300495329, 0.7668815239491313, 0.8341803455896561, 0.8991373978966655, 0.9619481948377754, 1.0227832346966035, 1.0817922162349347, 1.1391073876604676, 1.1948462363211985, 1.249113670675429, 1.3020038066294226, 1.3536014422643083, 1.4039832847057365, 1.453218978055356, 1.5013719703095154, 1.5485002489490416, 1.5946569686395085, 1.639890989703205, 1.684247342334026, 1.7277676286523835, 1.770490372440577, 1.812451324613858, 1.8536837310601875, 1.8942185683410606, 1.9340847518252842, 1.973309320080315, 2.011917598735743];\n",
       "const radii = [3, 3.106103295394597, 3.205081504909682, 3.2980408864953943, 3.3858337695681184, 3.469132832825103, 3.548479652345907, 3.6243176300411784, 3.697015030049533, 3.7668815239491313, 3.8341803455896564, 3.8991373978966655, 3.9619481948377753, 4.022783234696604, 4.081792216234935, 4.139107387660467, 4.194846236321198, 4.249113670675429, 4.302003806629423, 4.353601442264308, 4.4039832847057365, 4.4532189780553555, 4.501371970309515, 4.548500248949042, 4.594656968639509, 4.639890989703205, 4.684247342334026, 4.7277676286523835, 4.770490372440577, 4.812451324613858, 4.853683731060188, 4.894218568341061, 4.934084751825284, 4.973309320080315, 5.011917598735743];\n",
       "    \n",
       "    import * as THREE from 'https://unpkg.com/three@0.126.1/build/three.module.js';\n",
       "    import { OrbitControls } from 'https://unpkg.com/three@0.126.1/examples/jsm/controls/OrbitControls.js';\n",
       "    \n",
       "    var container = document.getElementById(\"mycanvas3\");\n",
       "    var scene = new THREE.Scene();\n",
       "    var camera = new THREE.PerspectiveCamera(75, window.innerWidth / window.innerHeight, 0.1, 1000);\n",
       "    var renderer = new THREE.WebGLRenderer();\n",
       "    renderer.setSize(container.clientWidth, container.clientHeight);\n",
       "    renderer.setPixelRatio( window.devicePixelRatio );\n",
       "    container.appendChild( renderer.domElement );\n",
       "    \n",
       "    for (var i = 0; i<times.length-1; ++i)\n",
       "    {\n",
       "        const material = new THREE.MeshLambertMaterial( { color: 0x00ff00 } );\n",
       "        const geometry = new THREE.CylinderGeometry(radii[i], radii[i], heights[i+1]-heights[i], 50);\n",
       "        const mesh = new THREE.Mesh(geometry, material);\n",
       "        mesh.position.y = heights[i]\n",
       "        scene.add(mesh);\n",
       "    }\n",
       "    \n",
       "    const light = new THREE.DirectionalLight( 0xffffff, 2 );\n",
       "    light.position.set( 1, 0.5, 3 );\n",
       "    scene.add( light );\n",
       "    const light2 = new THREE.DirectionalLight( 0xffffff, 2 );\n",
       "    light2.position.set( -2, -3, -10 );\n",
       "    scene.add( light2 );\n",
       "    \n",
       "\n",
       "    camera.position.z = 25;\n",
       "    \n",
       "    function render() {\n",
       "        renderer.render( scene, camera );\n",
       "    }\n",
       "    \n",
       "    render();\n",
       "    \n",
       "    var orbit = new OrbitControls( camera, renderer.domElement );\n",
       "    orbit.update();\n",
       "    orbit.addEventListener( 'change', render );\n",
       "</script>\n"
      ],
      "text/plain": [
       "<IPython.core.display.HTML object>"
      ]
     },
     "metadata": {},
     "output_type": "display_data"
    }
   ],
   "source": [
    "radii = [container_radius(h) for h in heights]\n",
    "js_data = \"\\n\".join(f\"const {name} = {repr(data)};\" for name, data in [\n",
    "    (\"times\", times),\n",
    "    (\"heights\", heights),\n",
    "    (\"radii\", radii)\n",
    "])\n",
    "\n",
    "display(HTML(\"\"\"\n",
    "<div id=\"mycanvas3\" style=\"height: 50ex\"></div>\n",
    "<script type=\"module\">\n",
    "    DATA\n",
    "    \n",
    "    import * as THREE from 'https://unpkg.com/three@0.126.1/build/three.module.js';\n",
    "    import { OrbitControls } from 'https://unpkg.com/three@0.126.1/examples/jsm/controls/OrbitControls.js';\n",
    "    \n",
    "    var container = document.getElementById(\"mycanvas3\");\n",
    "    var scene = new THREE.Scene();\n",
    "    var camera = new THREE.PerspectiveCamera(75, window.innerWidth / window.innerHeight, 0.1, 1000);\n",
    "    var renderer = new THREE.WebGLRenderer();\n",
    "    renderer.setSize(container.clientWidth, container.clientHeight);\n",
    "    renderer.setPixelRatio( window.devicePixelRatio );\n",
    "    container.appendChild( renderer.domElement );\n",
    "    \n",
    "    for (var i = 0; i<times.length-1; ++i)\n",
    "    {\n",
    "        const material = new THREE.MeshLambertMaterial( { color: 0x00ff00 } );\n",
    "        const geometry = new THREE.CylinderGeometry(radii[i], radii[i], heights[i+1]-heights[i], 50);\n",
    "        const mesh = new THREE.Mesh(geometry, material);\n",
    "        mesh.position.y = heights[i]\n",
    "        scene.add(mesh);\n",
    "    }\n",
    "    \n",
    "    const light = new THREE.DirectionalLight( 0xffffff, 2 );\n",
    "    light.position.set( 1, 0.5, 3 );\n",
    "    scene.add( light );\n",
    "    const light2 = new THREE.DirectionalLight( 0xffffff, 2 );\n",
    "    light2.position.set( -2, -3, -10 );\n",
    "    scene.add( light2 );\n",
    "    \n",
    "\n",
    "    camera.position.z = 25;\n",
    "    \n",
    "    function render() {\n",
    "        renderer.render( scene, camera );\n",
    "    }\n",
    "    \n",
    "    render();\n",
    "    \n",
    "    var orbit = new OrbitControls( camera, renderer.domElement );\n",
    "    orbit.update();\n",
    "    orbit.addEventListener( 'change', render );\n",
    "</script>\n",
    "\"\"\".replace(\"DATA\", js_data)))"
   ]
  },
  {
   "cell_type": "code",
   "execution_count": null,
   "id": "military-fiction",
   "metadata": {},
   "outputs": [],
   "source": []
  },
  {
   "cell_type": "code",
   "execution_count": null,
   "id": "joined-banking",
   "metadata": {},
   "outputs": [],
   "source": []
  }
 ],
 "metadata": {
  "kernelspec": {
   "display_name": "Python 3",
   "language": "python",
   "name": "python3"
  },
  "language_info": {
   "codemirror_mode": {
    "name": "ipython",
    "version": 3
   },
   "file_extension": ".py",
   "mimetype": "text/x-python",
   "name": "python",
   "nbconvert_exporter": "python",
   "pygments_lexer": "ipython3",
   "version": "3.9.1+"
  }
 },
 "nbformat": 4,
 "nbformat_minor": 5
}
